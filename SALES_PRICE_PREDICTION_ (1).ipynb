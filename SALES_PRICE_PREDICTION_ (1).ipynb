{
  "nbformat": 4,
  "nbformat_minor": 0,
  "metadata": {
    "colab": {
      "provenance": []
    },
    "kernelspec": {
      "name": "python3",
      "display_name": "Python 3"
    },
    "language_info": {
      "name": "python"
    }
  },
  "cells": [
    {
      "cell_type": "code",
      "execution_count": null,
      "metadata": {
        "colab": {
          "base_uri": "https://localhost:8080/"
        },
        "id": "Nw204d9-uCKB",
        "outputId": "dd27363b-b90a-4ad3-a9bf-6e4bc83103e6"
      },
      "outputs": [
        {
          "output_type": "stream",
          "name": "stdout",
          "text": [
            "      TV  Radio  Newspaper  Sales\n",
            "0  230.1   37.8       69.2   22.1\n",
            "1   44.5   39.3       45.1   10.4\n",
            "2   17.2   45.9       69.3   12.0\n",
            "3  151.5   41.3       58.5   16.5\n",
            "4  180.8   10.8       58.4   17.9\n"
          ]
        }
      ],
      "source": [
        "import numpy as np\n",
        "import pandas as pd\n",
        "import matplotlib.pyplot as plt\n",
        "import seaborn as sns\n",
        "from sklearn.model_selection import train_test_split\n",
        "from sklearn.linear_model import LinearRegression\n",
        "from sklearn.linear_model import LinearRegression\n",
        "data = pd.read_csv('Advertising.csv')\n",
        "print(data.head())"
      ]
    },
    {
      "cell_type": "code",
      "source": [
        "print(data.isnull().sum())\n"
      ],
      "metadata": {
        "colab": {
          "base_uri": "https://localhost:8080/"
        },
        "id": "h-KT-L7jvsOl",
        "outputId": "8a86ee06-ada6-4f22-df70-ef0e3fa868e4"
      },
      "execution_count": null,
      "outputs": [
        {
          "output_type": "stream",
          "name": "stdout",
          "text": [
            "TV           0\n",
            "Radio        0\n",
            "Newspaper    0\n",
            "Sales        0\n",
            "dtype: int64\n"
          ]
        }
      ]
    },
    {
      "cell_type": "code",
      "source": [
        "plt.style.use('seaborn-whitegrid')\n",
        "plt.figure(figsize=(12,10))\n",
        "sns.heatmap(data.corr())\n",
        "plt.show()"
      ],
      "metadata": {
        "colab": {
          "base_uri": "https://localhost:8080/",
          "height": 592
        },
        "id": "w9Tvvingv5Dj",
        "outputId": "51854c66-85ab-4f78-f816-273434ccab77"
      },
      "execution_count": null,
      "outputs": [
        {
          "output_type": "display_data",
          "data": {
            "text/plain": [
              "<Figure size 864x720 with 2 Axes>"
            ],
            "image/png": "[encoded data removed]"
          },
          "metadata": {}
        }
      ]
    },
    {
      "cell_type": "code",
      "source": [
        "x = np.array(data.drop([\"Sales\"],1))\n",
        "y = np.array(data[\"Sales\"])\n",
        "xtrain,xtest,ytrain,ytest = train_test_split(x,y,test_size=0.2,random_state=42)\n",
        "model = LinearRegression()\n",
        "model.fit(xtrain,ytrain)\n",
        "ypred = model.predict(xtest)\n",
        "\n",
        "data = pd.DataFrame(data={\"Predicted Sales\": ypred.flatten()})\n",
        "print(data)\n"
      ],
      "metadata": {
        "colab": {
          "base_uri": "https://localhost:8080/"
        },
        "id": "ex_BztHowWdZ",
        "outputId": "0b7680d2-9469-451d-d794-5ca709102d70"
      },
      "execution_count": null,
      "outputs": [
        {
          "output_type": "stream",
          "name": "stdout",
          "text": [
            "    Predicted Sales\n",
            "0         17.034772\n",
            "1         20.409740\n",
            "2         23.723989\n",
            "3          9.272785\n",
            "4         21.682719\n",
            "5         12.569402\n",
            "6         21.081195\n",
            "7          8.690350\n",
            "8         17.237013\n",
            "9         16.666575\n",
            "10         8.923965\n",
            "11         8.481734\n",
            "12        18.207512\n",
            "13         8.067507\n",
            "14        12.645510\n",
            "15        14.931628\n",
            "16         8.128146\n",
            "17        17.898766\n",
            "18        11.008806\n",
            "19        20.478328\n",
            "20        20.806318\n",
            "21        12.598833\n",
            "22        10.905183\n",
            "23        22.388548\n",
            "24         9.417961\n",
            "25         7.925067\n",
            "26        20.839085\n",
            "27        13.815209\n",
            "28        10.770809\n",
            "29         7.926825\n",
            "30        15.959474\n",
            "31        10.634909\n",
            "32        20.802920\n",
            "33        10.434342\n",
            "34        21.578475\n",
            "35        21.183645\n",
            "36        12.128218\n",
            "37        22.809533\n",
            "38        12.609928\n",
            "39         6.464413\n"
          ]
        },
        {
          "output_type": "stream",
          "name": "stderr",
          "text": [
            "<ipython-input-5-33aab9f41efb>:1: FutureWarning: In a future version of pandas all arguments of DataFrame.drop except for the argument 'labels' will be keyword-only\n",
            "  x = np.array(data.drop([\"Sales\"],1))\n"
          ]
        }
      ]
    }
  ]
}